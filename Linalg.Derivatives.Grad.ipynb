{
 "cells": [
  {
   "cell_type": "markdown",
   "metadata": {},
   "source": [
    "### Задание 1:\n",
    "\n",
    "Посчитайте частные производные функции в точкe\n",
    "(на бумажке или в LaTeX и на numpy):"
   ]
  },
  {
   "cell_type": "code",
   "execution_count": 4,
   "metadata": {},
   "outputs": [],
   "source": [
    "import numpy as np\n",
    "from scipy.optimize import approx_fprime"
   ]
  },
  {
   "cell_type": "markdown",
   "metadata": {},
   "source": [
    "$f(x,y)=2x^2y^3 + 1/x + y^2x + 7$ в точке $(1,2)$\n",
    "\n",
    "$fx'(x,y) = 4xy^3 - 1/x^2 + y^2 = 4*8 - 1 + 4 = 35$\n",
    "\n",
    "$fy'(x,y) = 2x^2*3y^2 + 2yx = 6x^2y^2 + 2yx = 6*4 + 2*2 = 28$"
   ]
  },
  {
   "cell_type": "code",
   "execution_count": 1,
   "metadata": {},
   "outputs": [],
   "source": [
    "def func(x, c0, c1, c2):\n",
    "    \"Coordinate vector `x` should be an array of size two.\"\n",
    "    return c0 * x[0]**2 * x[1]**3 + c1/x[0] + x[1]**2 * x[0] + c2"
   ]
  },
  {
   "cell_type": "code",
   "execution_count": 5,
   "metadata": {},
   "outputs": [
    {
     "data": {
      "text/plain": [
       "array([35.00000024, 28.00000024])"
      ]
     },
     "execution_count": 5,
     "metadata": {},
     "output_type": "execute_result"
    }
   ],
   "source": [
    "x = [1, 2]\n",
    "eps = np.sqrt(np.finfo(float).eps)\n",
    "approx_fprime(x, func, [eps, eps], 2, 1, 7)"
   ]
  },
  {
   "cell_type": "markdown",
   "metadata": {},
   "source": [
    "$f(x,y)=x^2y + sin(xy) +cos(x^2) + 6y$\n",
    "\n",
    "$fx'(x,y)=2xy + y*cos(xy) - 2x*sin(x^2) + 6y$\n",
    "\n",
    "$fy'(x,y)=x^2 + x*cos(xy) - cos(x^2) + 6$"
   ]
  },
  {
   "cell_type": "markdown",
   "metadata": {},
   "source": [
    "### Задание 2:\n",
    "\n",
    "Градиентный спуск своими руками"
   ]
  },
  {
   "cell_type": "code",
   "execution_count": 7,
   "metadata": {},
   "outputs": [],
   "source": [
    "from scipy.optimize import minimize, approx_fprime, fmin, brute"
   ]
  },
  {
   "cell_type": "code",
   "execution_count": 8,
   "metadata": {},
   "outputs": [],
   "source": [
    "def f(x):\n",
    "    return (x[0]**2) + (x[1]**2) "
   ]
  },
  {
   "cell_type": "code",
   "execution_count": 9,
   "metadata": {},
   "outputs": [],
   "source": [
    "x = np.array([100, 200])\n",
    "lr = 0.1"
   ]
  },
  {
   "cell_type": "code",
   "execution_count": 10,
   "metadata": {},
   "outputs": [
    {
     "name": "stdout",
     "output_type": "stream",
     "text": [
      "[1.49011612e-08 1.49011612e-08]\n"
     ]
    }
   ],
   "source": [
    "for i in range(50):\n",
    "    # Calculate gradient\n",
    "    # grad f(x0)= f'x(x0)*i + f'y(x0)*j\n",
    "    eps = np.sqrt(np.finfo(float).eps)\n",
    "    grad = approx_fprime(x, f, [eps, eps])\n",
    "    if (grad[0] < 0.001) and (grad[1] < 0.001):\n",
    "        print(grad)\n",
    "        break\n",
    "    \n",
    "\n",
    "    \n",
    "    # Update x with gradient\n",
    "    x[0] = x[0] - lr*grad[0]\n",
    "    x[1] = x[1] - lr*grad[1]"
   ]
  },
  {
   "cell_type": "code",
   "execution_count": 11,
   "metadata": {},
   "outputs": [
    {
     "name": "stdout",
     "output_type": "stream",
     "text": [
      "Итерация № 20\n",
      "Минимум достигается в:  [0 0]\n",
      "Значение функции в минимуме:  0\n"
     ]
    }
   ],
   "source": [
    "print('Итерация №', i)\n",
    "print(\"Минимум достигается в: \", x)\n",
    "print(\"Значение функции в минимуме: \", f(x))"
   ]
  },
  {
   "cell_type": "markdown",
   "metadata": {},
   "source": [
    "Проверка с помощью встроенной функции scipy: "
   ]
  },
  {
   "cell_type": "code",
   "execution_count": 12,
   "metadata": {},
   "outputs": [
    {
     "name": "stdout",
     "output_type": "stream",
     "text": [
      "Optimization terminated successfully.\n",
      "         Current function value: 0.000000\n",
      "         Iterations: 18\n",
      "         Function evaluations: 37\n"
     ]
    }
   ],
   "source": [
    "grad = minimize(f, x, method='nelder-mead', options={'xtol': 1e-6, 'disp': True})"
   ]
  },
  {
   "cell_type": "code",
   "execution_count": null,
   "metadata": {},
   "outputs": [],
   "source": []
  }
 ],
 "metadata": {
  "kernelspec": {
   "display_name": "Python 3",
   "language": "python",
   "name": "python3"
  },
  "language_info": {
   "codemirror_mode": {
    "name": "ipython",
    "version": 3
   },
   "file_extension": ".py",
   "mimetype": "text/x-python",
   "name": "python",
   "nbconvert_exporter": "python",
   "pygments_lexer": "ipython3",
   "version": "3.7.6"
  }
 },
 "nbformat": 4,
 "nbformat_minor": 4
}
